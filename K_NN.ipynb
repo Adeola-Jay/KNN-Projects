{
  "cells": [
    {
      "cell_type": "markdown",
      "metadata": {
        "id": "view-in-github",
        "colab_type": "text"
      },
      "source": [
        "<a href=\"https://colab.research.google.com/github/Adeola-Jay/KNN-Projects/blob/main/K_NN.ipynb\" target=\"_parent\"><img src=\"https://colab.research.google.com/assets/colab-badge.svg\" alt=\"Open In Colab\"/></a>"
      ]
    },
    {
      "cell_type": "code",
      "execution_count": null,
      "id": "e1139635",
      "metadata": {
        "id": "e1139635"
      },
      "outputs": [],
      "source": [
        "# Importing the libaries\n",
        "import numpy as np\n",
        "import pandas as pd\n",
        "import sklearn as sk\n",
        "import matplotlib.pyplot as plt\n",
        "import seaborn as sns\n"
      ]
    },
    {
      "cell_type": "code",
      "execution_count": null,
      "id": "ad4e180a",
      "metadata": {
        "id": "ad4e180a",
        "outputId": "c7a18ca5-7fb4-4f03-c0ea-9ee4c25ccb9b"
      },
      "outputs": [
        {
          "data": {
            "text/html": [
              "<div>\n",
              "<style scoped>\n",
              "    .dataframe tbody tr th:only-of-type {\n",
              "        vertical-align: middle;\n",
              "    }\n",
              "\n",
              "    .dataframe tbody tr th {\n",
              "        vertical-align: top;\n",
              "    }\n",
              "\n",
              "    .dataframe thead th {\n",
              "        text-align: right;\n",
              "    }\n",
              "</style>\n",
              "<table border=\"1\" class=\"dataframe\">\n",
              "  <thead>\n",
              "    <tr style=\"text-align: right;\">\n",
              "      <th></th>\n",
              "      <th>ID_Date</th>\n",
              "      <th>Temperature</th>\n",
              "      <th>Humidity</th>\n",
              "      <th>Light</th>\n",
              "      <th>CO2</th>\n",
              "      <th>HumidityRatio</th>\n",
              "      <th>OccupancyDetection</th>\n",
              "    </tr>\n",
              "  </thead>\n",
              "  <tbody>\n",
              "    <tr>\n",
              "      <th>0</th>\n",
              "      <td>1</td>\n",
              "      <td>21.76</td>\n",
              "      <td>31.13</td>\n",
              "      <td>437.33</td>\n",
              "      <td>1029.67</td>\n",
              "      <td>0.005021</td>\n",
              "      <td>Occupied</td>\n",
              "    </tr>\n",
              "    <tr>\n",
              "      <th>1</th>\n",
              "      <td>2</td>\n",
              "      <td>21.79</td>\n",
              "      <td>31.00</td>\n",
              "      <td>437.33</td>\n",
              "      <td>1000.00</td>\n",
              "      <td>0.005009</td>\n",
              "      <td>Occupied</td>\n",
              "    </tr>\n",
              "    <tr>\n",
              "      <th>2</th>\n",
              "      <td>3</td>\n",
              "      <td>21.77</td>\n",
              "      <td>31.12</td>\n",
              "      <td>434.00</td>\n",
              "      <td>1003.75</td>\n",
              "      <td>0.005022</td>\n",
              "      <td>Occupied</td>\n",
              "    </tr>\n",
              "    <tr>\n",
              "      <th>3</th>\n",
              "      <td>4</td>\n",
              "      <td>21.77</td>\n",
              "      <td>31.12</td>\n",
              "      <td>439.00</td>\n",
              "      <td>1009.50</td>\n",
              "      <td>0.005022</td>\n",
              "      <td>Occupied</td>\n",
              "    </tr>\n",
              "    <tr>\n",
              "      <th>4</th>\n",
              "      <td>5</td>\n",
              "      <td>21.79</td>\n",
              "      <td>31.13</td>\n",
              "      <td>437.33</td>\n",
              "      <td>1005.67</td>\n",
              "      <td>0.005030</td>\n",
              "      <td>Occupied</td>\n",
              "    </tr>\n",
              "    <tr>\n",
              "      <th>...</th>\n",
              "      <td>...</td>\n",
              "      <td>...</td>\n",
              "      <td>...</td>\n",
              "      <td>...</td>\n",
              "      <td>...</td>\n",
              "      <td>...</td>\n",
              "      <td>...</td>\n",
              "    </tr>\n",
              "    <tr>\n",
              "      <th>9747</th>\n",
              "      <td>9748</td>\n",
              "      <td>20.82</td>\n",
              "      <td>27.72</td>\n",
              "      <td>429.75</td>\n",
              "      <td>1505.25</td>\n",
              "      <td>0.004213</td>\n",
              "      <td>Occupied</td>\n",
              "    </tr>\n",
              "    <tr>\n",
              "      <th>9748</th>\n",
              "      <td>9749</td>\n",
              "      <td>20.87</td>\n",
              "      <td>27.75</td>\n",
              "      <td>423.50</td>\n",
              "      <td>1514.50</td>\n",
              "      <td>0.004230</td>\n",
              "      <td>Occupied</td>\n",
              "    </tr>\n",
              "    <tr>\n",
              "      <th>9749</th>\n",
              "      <td>9750</td>\n",
              "      <td>20.89</td>\n",
              "      <td>27.75</td>\n",
              "      <td>423.50</td>\n",
              "      <td>1521.50</td>\n",
              "      <td>0.004237</td>\n",
              "      <td>Occupied</td>\n",
              "    </tr>\n",
              "    <tr>\n",
              "      <th>9750</th>\n",
              "      <td>9751</td>\n",
              "      <td>20.89</td>\n",
              "      <td>28.02</td>\n",
              "      <td>418.75</td>\n",
              "      <td>1632.00</td>\n",
              "      <td>0.004279</td>\n",
              "      <td>Occupied</td>\n",
              "    </tr>\n",
              "    <tr>\n",
              "      <th>9751</th>\n",
              "      <td>9752</td>\n",
              "      <td>21.00</td>\n",
              "      <td>28.10</td>\n",
              "      <td>409.00</td>\n",
              "      <td>1864.00</td>\n",
              "      <td>0.004321</td>\n",
              "      <td>Occupied</td>\n",
              "    </tr>\n",
              "  </tbody>\n",
              "</table>\n",
              "<p>9752 rows × 7 columns</p>\n",
              "</div>"
            ],
            "text/plain": [
              "      ID_Date  Temperature  Humidity   Light      CO2  HumidityRatio  \\\n",
              "0           1        21.76     31.13  437.33  1029.67       0.005021   \n",
              "1           2        21.79     31.00  437.33  1000.00       0.005009   \n",
              "2           3        21.77     31.12  434.00  1003.75       0.005022   \n",
              "3           4        21.77     31.12  439.00  1009.50       0.005022   \n",
              "4           5        21.79     31.13  437.33  1005.67       0.005030   \n",
              "...       ...          ...       ...     ...      ...            ...   \n",
              "9747     9748        20.82     27.72  429.75  1505.25       0.004213   \n",
              "9748     9749        20.87     27.75  423.50  1514.50       0.004230   \n",
              "9749     9750        20.89     27.75  423.50  1521.50       0.004237   \n",
              "9750     9751        20.89     28.02  418.75  1632.00       0.004279   \n",
              "9751     9752        21.00     28.10  409.00  1864.00       0.004321   \n",
              "\n",
              "     OccupancyDetection  \n",
              "0              Occupied  \n",
              "1              Occupied  \n",
              "2              Occupied  \n",
              "3              Occupied  \n",
              "4              Occupied  \n",
              "...                 ...  \n",
              "9747           Occupied  \n",
              "9748           Occupied  \n",
              "9749           Occupied  \n",
              "9750           Occupied  \n",
              "9751           Occupied  \n",
              "\n",
              "[9752 rows x 7 columns]"
            ]
          },
          "execution_count": 30,
          "metadata": {},
          "output_type": "execute_result"
        }
      ],
      "source": [
        "# loading dataset\n",
        "dataset = pd.read_csv('Occupancy Data 2.csv')\n",
        "dataset"
      ]
    },
    {
      "cell_type": "code",
      "execution_count": null,
      "id": "aa93df08",
      "metadata": {
        "id": "aa93df08",
        "outputId": "94937e33-3f5b-4fc4-b7c1-076b164e6545"
      },
      "outputs": [
        {
          "data": {
            "text/plain": [
              "(9752, 7)"
            ]
          },
          "execution_count": 31,
          "metadata": {},
          "output_type": "execute_result"
        }
      ],
      "source": [
        "dataset.shape"
      ]
    },
    {
      "cell_type": "code",
      "execution_count": null,
      "id": "59e681e3",
      "metadata": {
        "id": "59e681e3",
        "outputId": "d949c36a-21b2-43e3-a4db-077cfcff1640"
      },
      "outputs": [
        {
          "data": {
            "text/html": [
              "<div>\n",
              "<style scoped>\n",
              "    .dataframe tbody tr th:only-of-type {\n",
              "        vertical-align: middle;\n",
              "    }\n",
              "\n",
              "    .dataframe tbody tr th {\n",
              "        vertical-align: top;\n",
              "    }\n",
              "\n",
              "    .dataframe thead th {\n",
              "        text-align: right;\n",
              "    }\n",
              "</style>\n",
              "<table border=\"1\" class=\"dataframe\">\n",
              "  <thead>\n",
              "    <tr style=\"text-align: right;\">\n",
              "      <th></th>\n",
              "      <th>ID_Date</th>\n",
              "      <th>Temperature</th>\n",
              "      <th>Humidity</th>\n",
              "      <th>Light</th>\n",
              "      <th>CO2</th>\n",
              "      <th>HumidityRatio</th>\n",
              "      <th>OccupancyDetection</th>\n",
              "    </tr>\n",
              "  </thead>\n",
              "  <tbody>\n",
              "    <tr>\n",
              "      <th>0</th>\n",
              "      <td>1</td>\n",
              "      <td>21.76</td>\n",
              "      <td>31.13</td>\n",
              "      <td>437.33</td>\n",
              "      <td>1029.67</td>\n",
              "      <td>0.005021</td>\n",
              "      <td>Occupied</td>\n",
              "    </tr>\n",
              "    <tr>\n",
              "      <th>1</th>\n",
              "      <td>2</td>\n",
              "      <td>21.79</td>\n",
              "      <td>31.00</td>\n",
              "      <td>437.33</td>\n",
              "      <td>1000.00</td>\n",
              "      <td>0.005009</td>\n",
              "      <td>Occupied</td>\n",
              "    </tr>\n",
              "    <tr>\n",
              "      <th>2</th>\n",
              "      <td>3</td>\n",
              "      <td>21.77</td>\n",
              "      <td>31.12</td>\n",
              "      <td>434.00</td>\n",
              "      <td>1003.75</td>\n",
              "      <td>0.005022</td>\n",
              "      <td>Occupied</td>\n",
              "    </tr>\n",
              "    <tr>\n",
              "      <th>3</th>\n",
              "      <td>4</td>\n",
              "      <td>21.77</td>\n",
              "      <td>31.12</td>\n",
              "      <td>439.00</td>\n",
              "      <td>1009.50</td>\n",
              "      <td>0.005022</td>\n",
              "      <td>Occupied</td>\n",
              "    </tr>\n",
              "    <tr>\n",
              "      <th>4</th>\n",
              "      <td>5</td>\n",
              "      <td>21.79</td>\n",
              "      <td>31.13</td>\n",
              "      <td>437.33</td>\n",
              "      <td>1005.67</td>\n",
              "      <td>0.005030</td>\n",
              "      <td>Occupied</td>\n",
              "    </tr>\n",
              "  </tbody>\n",
              "</table>\n",
              "</div>"
            ],
            "text/plain": [
              "   ID_Date  Temperature  Humidity   Light      CO2  HumidityRatio  \\\n",
              "0        1        21.76     31.13  437.33  1029.67       0.005021   \n",
              "1        2        21.79     31.00  437.33  1000.00       0.005009   \n",
              "2        3        21.77     31.12  434.00  1003.75       0.005022   \n",
              "3        4        21.77     31.12  439.00  1009.50       0.005022   \n",
              "4        5        21.79     31.13  437.33  1005.67       0.005030   \n",
              "\n",
              "  OccupancyDetection  \n",
              "0           Occupied  \n",
              "1           Occupied  \n",
              "2           Occupied  \n",
              "3           Occupied  \n",
              "4           Occupied  "
            ]
          },
          "execution_count": 32,
          "metadata": {},
          "output_type": "execute_result"
        }
      ],
      "source": [
        "dataset.head()"
      ]
    },
    {
      "cell_type": "code",
      "execution_count": null,
      "id": "3c073e0a",
      "metadata": {
        "id": "3c073e0a",
        "outputId": "bd1ec018-f7e5-41c9-9e95-9f64af8a205c"
      },
      "outputs": [
        {
          "data": {
            "text/html": [
              "<div>\n",
              "<style scoped>\n",
              "    .dataframe tbody tr th:only-of-type {\n",
              "        vertical-align: middle;\n",
              "    }\n",
              "\n",
              "    .dataframe tbody tr th {\n",
              "        vertical-align: top;\n",
              "    }\n",
              "\n",
              "    .dataframe thead th {\n",
              "        text-align: right;\n",
              "    }\n",
              "</style>\n",
              "<table border=\"1\" class=\"dataframe\">\n",
              "  <thead>\n",
              "    <tr style=\"text-align: right;\">\n",
              "      <th></th>\n",
              "      <th>ID_Date</th>\n",
              "      <th>Temperature</th>\n",
              "      <th>Humidity</th>\n",
              "      <th>Light</th>\n",
              "      <th>CO2</th>\n",
              "      <th>HumidityRatio</th>\n",
              "      <th>OccupancyDetection</th>\n",
              "    </tr>\n",
              "  </thead>\n",
              "  <tbody>\n",
              "    <tr>\n",
              "      <th>9747</th>\n",
              "      <td>9748</td>\n",
              "      <td>20.82</td>\n",
              "      <td>27.72</td>\n",
              "      <td>429.75</td>\n",
              "      <td>1505.25</td>\n",
              "      <td>0.004213</td>\n",
              "      <td>Occupied</td>\n",
              "    </tr>\n",
              "    <tr>\n",
              "      <th>9748</th>\n",
              "      <td>9749</td>\n",
              "      <td>20.87</td>\n",
              "      <td>27.75</td>\n",
              "      <td>423.50</td>\n",
              "      <td>1514.50</td>\n",
              "      <td>0.004230</td>\n",
              "      <td>Occupied</td>\n",
              "    </tr>\n",
              "    <tr>\n",
              "      <th>9749</th>\n",
              "      <td>9750</td>\n",
              "      <td>20.89</td>\n",
              "      <td>27.75</td>\n",
              "      <td>423.50</td>\n",
              "      <td>1521.50</td>\n",
              "      <td>0.004237</td>\n",
              "      <td>Occupied</td>\n",
              "    </tr>\n",
              "    <tr>\n",
              "      <th>9750</th>\n",
              "      <td>9751</td>\n",
              "      <td>20.89</td>\n",
              "      <td>28.02</td>\n",
              "      <td>418.75</td>\n",
              "      <td>1632.00</td>\n",
              "      <td>0.004279</td>\n",
              "      <td>Occupied</td>\n",
              "    </tr>\n",
              "    <tr>\n",
              "      <th>9751</th>\n",
              "      <td>9752</td>\n",
              "      <td>21.00</td>\n",
              "      <td>28.10</td>\n",
              "      <td>409.00</td>\n",
              "      <td>1864.00</td>\n",
              "      <td>0.004321</td>\n",
              "      <td>Occupied</td>\n",
              "    </tr>\n",
              "  </tbody>\n",
              "</table>\n",
              "</div>"
            ],
            "text/plain": [
              "      ID_Date  Temperature  Humidity   Light      CO2  HumidityRatio  \\\n",
              "9747     9748        20.82     27.72  429.75  1505.25       0.004213   \n",
              "9748     9749        20.87     27.75  423.50  1514.50       0.004230   \n",
              "9749     9750        20.89     27.75  423.50  1521.50       0.004237   \n",
              "9750     9751        20.89     28.02  418.75  1632.00       0.004279   \n",
              "9751     9752        21.00     28.10  409.00  1864.00       0.004321   \n",
              "\n",
              "     OccupancyDetection  \n",
              "9747           Occupied  \n",
              "9748           Occupied  \n",
              "9749           Occupied  \n",
              "9750           Occupied  \n",
              "9751           Occupied  "
            ]
          },
          "execution_count": 33,
          "metadata": {},
          "output_type": "execute_result"
        }
      ],
      "source": [
        "dataset.tail()"
      ]
    },
    {
      "cell_type": "code",
      "execution_count": null,
      "id": "80364b61",
      "metadata": {
        "id": "80364b61",
        "outputId": "f1823571-375a-4b9a-bf84-6ab6fe382fad"
      },
      "outputs": [
        {
          "name": "stdout",
          "output_type": "stream",
          "text": [
            "<class 'pandas.core.frame.DataFrame'>\n",
            "RangeIndex: 9752 entries, 0 to 9751\n",
            "Data columns (total 7 columns):\n",
            " #   Column              Non-Null Count  Dtype  \n",
            "---  ------              --------------  -----  \n",
            " 0   ID_Date             9752 non-null   int64  \n",
            " 1   Temperature         9752 non-null   float64\n",
            " 2   Humidity            9752 non-null   float64\n",
            " 3   Light               9752 non-null   float64\n",
            " 4   CO2                 9752 non-null   float64\n",
            " 5   HumidityRatio       9752 non-null   float64\n",
            " 6   OccupancyDetection  9752 non-null   object \n",
            "dtypes: float64(5), int64(1), object(1)\n",
            "memory usage: 533.4+ KB\n"
          ]
        }
      ],
      "source": [
        "dataset.info()"
      ]
    },
    {
      "cell_type": "code",
      "execution_count": null,
      "id": "357fbdba",
      "metadata": {
        "id": "357fbdba",
        "outputId": "52493b26-8a5c-40a6-ca7b-2680392694cd"
      },
      "outputs": [
        {
          "data": {
            "text/plain": [
              "ID_Date               0\n",
              "Temperature           0\n",
              "Humidity              0\n",
              "Light                 0\n",
              "CO2                   0\n",
              "HumidityRatio         0\n",
              "OccupancyDetection    0\n",
              "dtype: int64"
            ]
          },
          "execution_count": 35,
          "metadata": {},
          "output_type": "execute_result"
        }
      ],
      "source": [
        "dataset.isnull().sum()"
      ]
    },
    {
      "cell_type": "code",
      "execution_count": null,
      "id": "a24f446f",
      "metadata": {
        "id": "a24f446f",
        "outputId": "d93e6f51-5a05-4c8e-8db3-5b424dba1331"
      },
      "outputs": [
        {
          "data": {
            "text/html": [
              "<div>\n",
              "<style scoped>\n",
              "    .dataframe tbody tr th:only-of-type {\n",
              "        vertical-align: middle;\n",
              "    }\n",
              "\n",
              "    .dataframe tbody tr th {\n",
              "        vertical-align: top;\n",
              "    }\n",
              "\n",
              "    .dataframe thead th {\n",
              "        text-align: right;\n",
              "    }\n",
              "</style>\n",
              "<table border=\"1\" class=\"dataframe\">\n",
              "  <thead>\n",
              "    <tr style=\"text-align: right;\">\n",
              "      <th></th>\n",
              "      <th>ID_Date</th>\n",
              "      <th>Temperature</th>\n",
              "      <th>Humidity</th>\n",
              "      <th>Light</th>\n",
              "      <th>CO2</th>\n",
              "      <th>HumidityRatio</th>\n",
              "    </tr>\n",
              "  </thead>\n",
              "  <tbody>\n",
              "    <tr>\n",
              "      <th>count</th>\n",
              "      <td>9752.000000</td>\n",
              "      <td>9752.000000</td>\n",
              "      <td>9752.000000</td>\n",
              "      <td>9752.000000</td>\n",
              "      <td>9752.000000</td>\n",
              "      <td>9752.000000</td>\n",
              "    </tr>\n",
              "    <tr>\n",
              "      <th>mean</th>\n",
              "      <td>4876.500000</td>\n",
              "      <td>21.002133</td>\n",
              "      <td>29.892659</td>\n",
              "      <td>123.067922</td>\n",
              "      <td>753.224820</td>\n",
              "      <td>0.004589</td>\n",
              "    </tr>\n",
              "    <tr>\n",
              "      <th>std</th>\n",
              "      <td>2815.304246</td>\n",
              "      <td>1.020825</td>\n",
              "      <td>3.952732</td>\n",
              "      <td>208.221273</td>\n",
              "      <td>297.096118</td>\n",
              "      <td>0.000531</td>\n",
              "    </tr>\n",
              "    <tr>\n",
              "      <th>min</th>\n",
              "      <td>1.000000</td>\n",
              "      <td>19.500000</td>\n",
              "      <td>21.870000</td>\n",
              "      <td>0.000000</td>\n",
              "      <td>484.670000</td>\n",
              "      <td>0.003275</td>\n",
              "    </tr>\n",
              "    <tr>\n",
              "      <th>25%</th>\n",
              "      <td>2438.750000</td>\n",
              "      <td>20.290000</td>\n",
              "      <td>26.645000</td>\n",
              "      <td>0.000000</td>\n",
              "      <td>542.310000</td>\n",
              "      <td>0.004196</td>\n",
              "    </tr>\n",
              "    <tr>\n",
              "      <th>50%</th>\n",
              "      <td>4876.500000</td>\n",
              "      <td>20.790000</td>\n",
              "      <td>30.200000</td>\n",
              "      <td>0.000000</td>\n",
              "      <td>639.000000</td>\n",
              "      <td>0.004593</td>\n",
              "    </tr>\n",
              "    <tr>\n",
              "      <th>75%</th>\n",
              "      <td>7314.250000</td>\n",
              "      <td>21.530000</td>\n",
              "      <td>32.700000</td>\n",
              "      <td>208.250000</td>\n",
              "      <td>831.125000</td>\n",
              "      <td>0.004998</td>\n",
              "    </tr>\n",
              "    <tr>\n",
              "      <th>max</th>\n",
              "      <td>9752.000000</td>\n",
              "      <td>24.390000</td>\n",
              "      <td>39.500000</td>\n",
              "      <td>1581.000000</td>\n",
              "      <td>2076.500000</td>\n",
              "      <td>0.005769</td>\n",
              "    </tr>\n",
              "  </tbody>\n",
              "</table>\n",
              "</div>"
            ],
            "text/plain": [
              "           ID_Date  Temperature     Humidity        Light          CO2  \\\n",
              "count  9752.000000  9752.000000  9752.000000  9752.000000  9752.000000   \n",
              "mean   4876.500000    21.002133    29.892659   123.067922   753.224820   \n",
              "std    2815.304246     1.020825     3.952732   208.221273   297.096118   \n",
              "min       1.000000    19.500000    21.870000     0.000000   484.670000   \n",
              "25%    2438.750000    20.290000    26.645000     0.000000   542.310000   \n",
              "50%    4876.500000    20.790000    30.200000     0.000000   639.000000   \n",
              "75%    7314.250000    21.530000    32.700000   208.250000   831.125000   \n",
              "max    9752.000000    24.390000    39.500000  1581.000000  2076.500000   \n",
              "\n",
              "       HumidityRatio  \n",
              "count    9752.000000  \n",
              "mean        0.004589  \n",
              "std         0.000531  \n",
              "min         0.003275  \n",
              "25%         0.004196  \n",
              "50%         0.004593  \n",
              "75%         0.004998  \n",
              "max         0.005769  "
            ]
          },
          "execution_count": 36,
          "metadata": {},
          "output_type": "execute_result"
        }
      ],
      "source": [
        "dataset.describe()"
      ]
    },
    {
      "cell_type": "code",
      "execution_count": null,
      "id": "75dd7dfa",
      "metadata": {
        "id": "75dd7dfa",
        "outputId": "6ea85c50-3c72-49a3-8182-95f82a98d4b6"
      },
      "outputs": [
        {
          "data": {
            "text/html": [
              "<div>\n",
              "<style scoped>\n",
              "    .dataframe tbody tr th:only-of-type {\n",
              "        vertical-align: middle;\n",
              "    }\n",
              "\n",
              "    .dataframe tbody tr th {\n",
              "        vertical-align: top;\n",
              "    }\n",
              "\n",
              "    .dataframe thead th {\n",
              "        text-align: right;\n",
              "    }\n",
              "</style>\n",
              "<table border=\"1\" class=\"dataframe\">\n",
              "  <thead>\n",
              "    <tr style=\"text-align: right;\">\n",
              "      <th></th>\n",
              "      <th>ID_Date</th>\n",
              "      <th>Temperature</th>\n",
              "      <th>Humidity</th>\n",
              "      <th>Light</th>\n",
              "      <th>CO2</th>\n",
              "      <th>HumidityRatio</th>\n",
              "      <th>OccupancyDetection</th>\n",
              "    </tr>\n",
              "  </thead>\n",
              "  <tbody>\n",
              "    <tr>\n",
              "      <th>count</th>\n",
              "      <td>9752.000000</td>\n",
              "      <td>9752.000000</td>\n",
              "      <td>9752.000000</td>\n",
              "      <td>9752.000000</td>\n",
              "      <td>9752.000000</td>\n",
              "      <td>9752.000000</td>\n",
              "      <td>9752</td>\n",
              "    </tr>\n",
              "    <tr>\n",
              "      <th>unique</th>\n",
              "      <td>NaN</td>\n",
              "      <td>NaN</td>\n",
              "      <td>NaN</td>\n",
              "      <td>NaN</td>\n",
              "      <td>NaN</td>\n",
              "      <td>NaN</td>\n",
              "      <td>2</td>\n",
              "    </tr>\n",
              "    <tr>\n",
              "      <th>top</th>\n",
              "      <td>NaN</td>\n",
              "      <td>NaN</td>\n",
              "      <td>NaN</td>\n",
              "      <td>NaN</td>\n",
              "      <td>NaN</td>\n",
              "      <td>NaN</td>\n",
              "      <td>Not Occupied</td>\n",
              "    </tr>\n",
              "    <tr>\n",
              "      <th>freq</th>\n",
              "      <td>NaN</td>\n",
              "      <td>NaN</td>\n",
              "      <td>NaN</td>\n",
              "      <td>NaN</td>\n",
              "      <td>NaN</td>\n",
              "      <td>NaN</td>\n",
              "      <td>7703</td>\n",
              "    </tr>\n",
              "    <tr>\n",
              "      <th>mean</th>\n",
              "      <td>4876.500000</td>\n",
              "      <td>21.002133</td>\n",
              "      <td>29.892659</td>\n",
              "      <td>123.067922</td>\n",
              "      <td>753.224820</td>\n",
              "      <td>0.004589</td>\n",
              "      <td>NaN</td>\n",
              "    </tr>\n",
              "    <tr>\n",
              "      <th>std</th>\n",
              "      <td>2815.304246</td>\n",
              "      <td>1.020825</td>\n",
              "      <td>3.952732</td>\n",
              "      <td>208.221273</td>\n",
              "      <td>297.096118</td>\n",
              "      <td>0.000531</td>\n",
              "      <td>NaN</td>\n",
              "    </tr>\n",
              "    <tr>\n",
              "      <th>min</th>\n",
              "      <td>1.000000</td>\n",
              "      <td>19.500000</td>\n",
              "      <td>21.870000</td>\n",
              "      <td>0.000000</td>\n",
              "      <td>484.670000</td>\n",
              "      <td>0.003275</td>\n",
              "      <td>NaN</td>\n",
              "    </tr>\n",
              "    <tr>\n",
              "      <th>25%</th>\n",
              "      <td>2438.750000</td>\n",
              "      <td>20.290000</td>\n",
              "      <td>26.645000</td>\n",
              "      <td>0.000000</td>\n",
              "      <td>542.310000</td>\n",
              "      <td>0.004196</td>\n",
              "      <td>NaN</td>\n",
              "    </tr>\n",
              "    <tr>\n",
              "      <th>50%</th>\n",
              "      <td>4876.500000</td>\n",
              "      <td>20.790000</td>\n",
              "      <td>30.200000</td>\n",
              "      <td>0.000000</td>\n",
              "      <td>639.000000</td>\n",
              "      <td>0.004593</td>\n",
              "      <td>NaN</td>\n",
              "    </tr>\n",
              "    <tr>\n",
              "      <th>75%</th>\n",
              "      <td>7314.250000</td>\n",
              "      <td>21.530000</td>\n",
              "      <td>32.700000</td>\n",
              "      <td>208.250000</td>\n",
              "      <td>831.125000</td>\n",
              "      <td>0.004998</td>\n",
              "      <td>NaN</td>\n",
              "    </tr>\n",
              "    <tr>\n",
              "      <th>max</th>\n",
              "      <td>9752.000000</td>\n",
              "      <td>24.390000</td>\n",
              "      <td>39.500000</td>\n",
              "      <td>1581.000000</td>\n",
              "      <td>2076.500000</td>\n",
              "      <td>0.005769</td>\n",
              "      <td>NaN</td>\n",
              "    </tr>\n",
              "  </tbody>\n",
              "</table>\n",
              "</div>"
            ],
            "text/plain": [
              "            ID_Date  Temperature     Humidity        Light          CO2  \\\n",
              "count   9752.000000  9752.000000  9752.000000  9752.000000  9752.000000   \n",
              "unique          NaN          NaN          NaN          NaN          NaN   \n",
              "top             NaN          NaN          NaN          NaN          NaN   \n",
              "freq            NaN          NaN          NaN          NaN          NaN   \n",
              "mean    4876.500000    21.002133    29.892659   123.067922   753.224820   \n",
              "std     2815.304246     1.020825     3.952732   208.221273   297.096118   \n",
              "min        1.000000    19.500000    21.870000     0.000000   484.670000   \n",
              "25%     2438.750000    20.290000    26.645000     0.000000   542.310000   \n",
              "50%     4876.500000    20.790000    30.200000     0.000000   639.000000   \n",
              "75%     7314.250000    21.530000    32.700000   208.250000   831.125000   \n",
              "max     9752.000000    24.390000    39.500000  1581.000000  2076.500000   \n",
              "\n",
              "        HumidityRatio OccupancyDetection  \n",
              "count     9752.000000               9752  \n",
              "unique            NaN                  2  \n",
              "top               NaN       Not Occupied  \n",
              "freq              NaN               7703  \n",
              "mean         0.004589                NaN  \n",
              "std          0.000531                NaN  \n",
              "min          0.003275                NaN  \n",
              "25%          0.004196                NaN  \n",
              "50%          0.004593                NaN  \n",
              "75%          0.004998                NaN  \n",
              "max          0.005769                NaN  "
            ]
          },
          "execution_count": 37,
          "metadata": {},
          "output_type": "execute_result"
        }
      ],
      "source": [
        "dataset.describe(include='all')"
      ]
    },
    {
      "cell_type": "code",
      "execution_count": null,
      "id": "4921cdaf",
      "metadata": {
        "id": "4921cdaf",
        "outputId": "4fa7d3c2-3378-40a4-c50d-f59b0fae9f8b"
      },
      "outputs": [
        {
          "data": {
            "image/png": "[encoded data removed]",
            "text/plain": [
              "<Figure size 432x288 with 1 Axes>"
            ]
          },
          "metadata": {
            "needs_background": "light"
          },
          "output_type": "display_data"
        }
      ],
      "source": [
        "sns.histplot(dataset.Temperature)\n",
        "plt.title('Sensors distribution')\n",
        "plt.show()"
      ]
    },
    {
      "cell_type": "code",
      "execution_count": null,
      "id": "2ce712d0",
      "metadata": {
        "id": "2ce712d0",
        "outputId": "cc81868b-d093-40e1-a784-6a874a92efef"
      },
      "outputs": [
        {
          "data": {
            "image/png": "[encoded data removed]",
            "text/plain": [
              "<Figure size 432x288 with 1 Axes>"
            ]
          },
          "metadata": {
            "needs_background": "light"
          },
          "output_type": "display_data"
        }
      ],
      "source": [
        "sns.histplot(dataset.OccupancyDetection)\n",
        "plt.title('Sensor distribution')\n",
        "plt.show()"
      ]
    },
    {
      "cell_type": "code",
      "execution_count": null,
      "id": "e491fc52",
      "metadata": {
        "id": "e491fc52",
        "outputId": "dbc777fc-227e-4e2a-9a2b-22f27ab19233"
      },
      "outputs": [
        {
          "data": {
            "image/png": "[encoded data removed]",
            "text/plain": [
              "<Figure size 432x288 with 1 Axes>"
            ]
          },
          "metadata": {
            "needs_background": "light"
          },
          "output_type": "display_data"
        }
      ],
      "source": [
        "sns.histplot(dataset.Humidity)\n",
        "plt.title('Sensor distribution')\n",
        "plt.show()"
      ]
    },
    {
      "cell_type": "code",
      "execution_count": null,
      "id": "00f9bebc",
      "metadata": {
        "id": "00f9bebc",
        "outputId": "fc56f403-ce4c-4e49-8d39-e65a94800a22"
      },
      "outputs": [
        {
          "data": {
            "image/png": "[encoded data removed]",
            "text/plain": [
              "<Figure size 720x360 with 1 Axes>"
            ]
          },
          "metadata": {
            "needs_background": "light"
          },
          "output_type": "display_data"
        }
      ],
      "source": [
        "plt.figure(figsize=(10, 5))\n",
        "plt.title(\"Occupacy Detection based on Humidity\")\n",
        "sns.histplot(x= \"Humidity\", hue=\"OccupancyDetection\", data=dataset)\n",
        "plt.show()"
      ]
    },
    {
      "cell_type": "code",
      "execution_count": null,
      "id": "718f8a1d",
      "metadata": {
        "id": "718f8a1d",
        "outputId": "33c6d6b3-c6ae-49a7-acb0-bce98236e9f3"
      },
      "outputs": [
        {
          "data": {
            "text/html": [
              "<div>\n",
              "<style scoped>\n",
              "    .dataframe tbody tr th:only-of-type {\n",
              "        vertical-align: middle;\n",
              "    }\n",
              "\n",
              "    .dataframe tbody tr th {\n",
              "        vertical-align: top;\n",
              "    }\n",
              "\n",
              "    .dataframe thead th {\n",
              "        text-align: right;\n",
              "    }\n",
              "</style>\n",
              "<table border=\"1\" class=\"dataframe\">\n",
              "  <thead>\n",
              "    <tr style=\"text-align: right;\">\n",
              "      <th></th>\n",
              "      <th>ID_Date</th>\n",
              "      <th>Temperature</th>\n",
              "      <th>Humidity</th>\n",
              "      <th>Light</th>\n",
              "      <th>CO2</th>\n",
              "      <th>HumidityRatio</th>\n",
              "      <th>OccupancyDetection</th>\n",
              "    </tr>\n",
              "  </thead>\n",
              "  <tbody>\n",
              "    <tr>\n",
              "      <th>0</th>\n",
              "      <td>1</td>\n",
              "      <td>21.76</td>\n",
              "      <td>31.13</td>\n",
              "      <td>437.33</td>\n",
              "      <td>1029.67</td>\n",
              "      <td>0.005021</td>\n",
              "      <td>1</td>\n",
              "    </tr>\n",
              "    <tr>\n",
              "      <th>1</th>\n",
              "      <td>2</td>\n",
              "      <td>21.79</td>\n",
              "      <td>31.00</td>\n",
              "      <td>437.33</td>\n",
              "      <td>1000.00</td>\n",
              "      <td>0.005009</td>\n",
              "      <td>1</td>\n",
              "    </tr>\n",
              "    <tr>\n",
              "      <th>2</th>\n",
              "      <td>3</td>\n",
              "      <td>21.77</td>\n",
              "      <td>31.12</td>\n",
              "      <td>434.00</td>\n",
              "      <td>1003.75</td>\n",
              "      <td>0.005022</td>\n",
              "      <td>1</td>\n",
              "    </tr>\n",
              "    <tr>\n",
              "      <th>3</th>\n",
              "      <td>4</td>\n",
              "      <td>21.77</td>\n",
              "      <td>31.12</td>\n",
              "      <td>439.00</td>\n",
              "      <td>1009.50</td>\n",
              "      <td>0.005022</td>\n",
              "      <td>1</td>\n",
              "    </tr>\n",
              "    <tr>\n",
              "      <th>4</th>\n",
              "      <td>5</td>\n",
              "      <td>21.79</td>\n",
              "      <td>31.13</td>\n",
              "      <td>437.33</td>\n",
              "      <td>1005.67</td>\n",
              "      <td>0.005030</td>\n",
              "      <td>1</td>\n",
              "    </tr>\n",
              "    <tr>\n",
              "      <th>...</th>\n",
              "      <td>...</td>\n",
              "      <td>...</td>\n",
              "      <td>...</td>\n",
              "      <td>...</td>\n",
              "      <td>...</td>\n",
              "      <td>...</td>\n",
              "      <td>...</td>\n",
              "    </tr>\n",
              "    <tr>\n",
              "      <th>9747</th>\n",
              "      <td>9748</td>\n",
              "      <td>20.82</td>\n",
              "      <td>27.72</td>\n",
              "      <td>429.75</td>\n",
              "      <td>1505.25</td>\n",
              "      <td>0.004213</td>\n",
              "      <td>1</td>\n",
              "    </tr>\n",
              "    <tr>\n",
              "      <th>9748</th>\n",
              "      <td>9749</td>\n",
              "      <td>20.87</td>\n",
              "      <td>27.75</td>\n",
              "      <td>423.50</td>\n",
              "      <td>1514.50</td>\n",
              "      <td>0.004230</td>\n",
              "      <td>1</td>\n",
              "    </tr>\n",
              "    <tr>\n",
              "      <th>9749</th>\n",
              "      <td>9750</td>\n",
              "      <td>20.89</td>\n",
              "      <td>27.75</td>\n",
              "      <td>423.50</td>\n",
              "      <td>1521.50</td>\n",
              "      <td>0.004237</td>\n",
              "      <td>1</td>\n",
              "    </tr>\n",
              "    <tr>\n",
              "      <th>9750</th>\n",
              "      <td>9751</td>\n",
              "      <td>20.89</td>\n",
              "      <td>28.02</td>\n",
              "      <td>418.75</td>\n",
              "      <td>1632.00</td>\n",
              "      <td>0.004279</td>\n",
              "      <td>1</td>\n",
              "    </tr>\n",
              "    <tr>\n",
              "      <th>9751</th>\n",
              "      <td>9752</td>\n",
              "      <td>21.00</td>\n",
              "      <td>28.10</td>\n",
              "      <td>409.00</td>\n",
              "      <td>1864.00</td>\n",
              "      <td>0.004321</td>\n",
              "      <td>1</td>\n",
              "    </tr>\n",
              "  </tbody>\n",
              "</table>\n",
              "<p>9752 rows × 7 columns</p>\n",
              "</div>"
            ],
            "text/plain": [
              "      ID_Date  Temperature  Humidity   Light      CO2  HumidityRatio  \\\n",
              "0           1        21.76     31.13  437.33  1029.67       0.005021   \n",
              "1           2        21.79     31.00  437.33  1000.00       0.005009   \n",
              "2           3        21.77     31.12  434.00  1003.75       0.005022   \n",
              "3           4        21.77     31.12  439.00  1009.50       0.005022   \n",
              "4           5        21.79     31.13  437.33  1005.67       0.005030   \n",
              "...       ...          ...       ...     ...      ...            ...   \n",
              "9747     9748        20.82     27.72  429.75  1505.25       0.004213   \n",
              "9748     9749        20.87     27.75  423.50  1514.50       0.004230   \n",
              "9749     9750        20.89     27.75  423.50  1521.50       0.004237   \n",
              "9750     9751        20.89     28.02  418.75  1632.00       0.004279   \n",
              "9751     9752        21.00     28.10  409.00  1864.00       0.004321   \n",
              "\n",
              "      OccupancyDetection  \n",
              "0                      1  \n",
              "1                      1  \n",
              "2                      1  \n",
              "3                      1  \n",
              "4                      1  \n",
              "...                  ...  \n",
              "9747                   1  \n",
              "9748                   1  \n",
              "9749                   1  \n",
              "9750                   1  \n",
              "9751                   1  \n",
              "\n",
              "[9752 rows x 7 columns]"
            ]
          },
          "execution_count": 42,
          "metadata": {},
          "output_type": "execute_result"
        }
      ],
      "source": [
        "dataset['OccupancyDetection']=dataset['OccupancyDetection'].replace(['Not Occupied', 'Occupied'],[0,1])\n",
        "\n",
        "dataset"
      ]
    },
    {
      "cell_type": "code",
      "execution_count": null,
      "id": "ca983ff9",
      "metadata": {
        "id": "ca983ff9",
        "outputId": "4a55de83-b28b-4018-b15f-b2ce111eb6ac"
      },
      "outputs": [
        {
          "data": {
            "text/html": [
              "<div>\n",
              "<style scoped>\n",
              "    .dataframe tbody tr th:only-of-type {\n",
              "        vertical-align: middle;\n",
              "    }\n",
              "\n",
              "    .dataframe tbody tr th {\n",
              "        vertical-align: top;\n",
              "    }\n",
              "\n",
              "    .dataframe thead th {\n",
              "        text-align: right;\n",
              "    }\n",
              "</style>\n",
              "<table border=\"1\" class=\"dataframe\">\n",
              "  <thead>\n",
              "    <tr style=\"text-align: right;\">\n",
              "      <th></th>\n",
              "      <th>ID_Date</th>\n",
              "      <th>Temperature</th>\n",
              "      <th>Humidity</th>\n",
              "      <th>Light</th>\n",
              "      <th>CO2</th>\n",
              "      <th>HumidityRatio</th>\n",
              "      <th>OccupancyDetection</th>\n",
              "    </tr>\n",
              "  </thead>\n",
              "  <tbody>\n",
              "    <tr>\n",
              "      <th>0</th>\n",
              "      <td>1</td>\n",
              "      <td>21.76</td>\n",
              "      <td>31.13</td>\n",
              "      <td>437.33</td>\n",
              "      <td>1029.67</td>\n",
              "      <td>0.005021</td>\n",
              "      <td>1</td>\n",
              "    </tr>\n",
              "    <tr>\n",
              "      <th>1</th>\n",
              "      <td>2</td>\n",
              "      <td>21.79</td>\n",
              "      <td>31.00</td>\n",
              "      <td>437.33</td>\n",
              "      <td>1000.00</td>\n",
              "      <td>0.005009</td>\n",
              "      <td>1</td>\n",
              "    </tr>\n",
              "    <tr>\n",
              "      <th>2</th>\n",
              "      <td>3</td>\n",
              "      <td>21.77</td>\n",
              "      <td>31.12</td>\n",
              "      <td>434.00</td>\n",
              "      <td>1003.75</td>\n",
              "      <td>0.005022</td>\n",
              "      <td>1</td>\n",
              "    </tr>\n",
              "    <tr>\n",
              "      <th>3</th>\n",
              "      <td>4</td>\n",
              "      <td>21.77</td>\n",
              "      <td>31.12</td>\n",
              "      <td>439.00</td>\n",
              "      <td>1009.50</td>\n",
              "      <td>0.005022</td>\n",
              "      <td>1</td>\n",
              "    </tr>\n",
              "    <tr>\n",
              "      <th>4</th>\n",
              "      <td>5</td>\n",
              "      <td>21.79</td>\n",
              "      <td>31.13</td>\n",
              "      <td>437.33</td>\n",
              "      <td>1005.67</td>\n",
              "      <td>0.005030</td>\n",
              "      <td>1</td>\n",
              "    </tr>\n",
              "  </tbody>\n",
              "</table>\n",
              "</div>"
            ],
            "text/plain": [
              "   ID_Date  Temperature  Humidity   Light      CO2  HumidityRatio  \\\n",
              "0        1        21.76     31.13  437.33  1029.67       0.005021   \n",
              "1        2        21.79     31.00  437.33  1000.00       0.005009   \n",
              "2        3        21.77     31.12  434.00  1003.75       0.005022   \n",
              "3        4        21.77     31.12  439.00  1009.50       0.005022   \n",
              "4        5        21.79     31.13  437.33  1005.67       0.005030   \n",
              "\n",
              "   OccupancyDetection  \n",
              "0                   1  \n",
              "1                   1  \n",
              "2                   1  \n",
              "3                   1  \n",
              "4                   1  "
            ]
          },
          "execution_count": 43,
          "metadata": {},
          "output_type": "execute_result"
        }
      ],
      "source": [
        "dataset.head()"
      ]
    },
    {
      "cell_type": "code",
      "execution_count": null,
      "id": "f0dd1978",
      "metadata": {
        "id": "f0dd1978"
      },
      "outputs": [],
      "source": [
        "X = dataset.iloc[:, [1, 2, 3, 4]].values\n",
        "y = dataset.iloc[:, 6].values"
      ]
    },
    {
      "cell_type": "code",
      "execution_count": null,
      "id": "d0fa2970",
      "metadata": {
        "id": "d0fa2970"
      },
      "outputs": [],
      "source": [
        "from sklearn.model_selection import train_test_split\n",
        "X_train, X_test, y_train, y_test = train_test_split(X, y, test_size = 0.3, random_state = 0)"
      ]
    },
    {
      "cell_type": "code",
      "execution_count": null,
      "id": "6b3a192c",
      "metadata": {
        "id": "6b3a192c"
      },
      "outputs": [],
      "source": [
        "from sklearn.feature_selection import VarianceThreshold\n",
        "variance_selector = VarianceThreshold(threshold=0)\n",
        "X_train_fs = variance_selector.fit_transform(X_train)\n",
        "X_test_fs = variance_selector.transform(X_test)"
      ]
    },
    {
      "cell_type": "code",
      "execution_count": null,
      "id": "e68a79e5",
      "metadata": {
        "id": "e68a79e5"
      },
      "outputs": [],
      "source": []
    },
    {
      "cell_type": "code",
      "execution_count": null,
      "id": "43b90224",
      "metadata": {
        "id": "43b90224",
        "outputId": "cfcab772-c1ae-49ed-ce3a-fa3fc14a2136"
      },
      "outputs": [
        {
          "name": "stdout",
          "output_type": "stream",
          "text": [
            "Requirement already satisfied: imblearn in c:\\users\\adeol\\anaconda3\\lib\\site-packages (0.0)Note: you may need to restart the kernel to use updated packages.\n",
            "Requirement already satisfied: imbalanced-learn in c:\\users\\adeol\\anaconda3\\lib\\site-packages (from imblearn) (0.9.1)\n",
            "Requirement already satisfied: scipy>=1.3.2 in c:\\users\\adeol\\anaconda3\\lib\\site-packages (from imbalanced-learn->imblearn) (1.9.2)\n",
            "Requirement already satisfied: joblib>=1.0.0 in c:\\users\\adeol\\anaconda3\\lib\\site-packages (from imbalanced-learn->imblearn) (1.1.0)\n",
            "Requirement already satisfied: numpy>=1.17.3 in c:\\users\\adeol\\anaconda3\\lib\\site-packages (from imbalanced-learn->imblearn) (1.21.5)\n",
            "Requirement already satisfied: scikit-learn>=1.1.0 in c:\\users\\adeol\\anaconda3\\lib\\site-packages (from imbalanced-learn->imblearn) (1.1.3)\n",
            "Requirement already satisfied: threadpoolctl>=2.0.0 in c:\\users\\adeol\\anaconda3\\lib\\site-packages (from imbalanced-learn->imblearn) (2.2.0)\n",
            "\n"
          ]
        }
      ],
      "source": [
        "%pip install imblearn\n",
        "import imblearn"
      ]
    },
    {
      "cell_type": "code",
      "execution_count": null,
      "id": "5e1b03ef",
      "metadata": {
        "id": "5e1b03ef",
        "outputId": "f0ce990c-c1f2-4028-fe94-773023467482"
      },
      "outputs": [
        {
          "data": {
            "text/plain": [
              "0    7703\n",
              "1    2049\n",
              "Name: OccupancyDetection, dtype: int64"
            ]
          },
          "execution_count": 48,
          "metadata": {},
          "output_type": "execute_result"
        }
      ],
      "source": [
        "dataset['OccupancyDetection'].value_counts()"
      ]
    },
    {
      "cell_type": "code",
      "execution_count": null,
      "id": "aa5a4336",
      "metadata": {
        "id": "aa5a4336",
        "outputId": "eef84197-1671-4f70-fd0e-97ed917aa969"
      },
      "outputs": [
        {
          "name": "stderr",
          "output_type": "stream",
          "text": [
            "C:\\Users\\adeol\\anaconda3\\lib\\site-packages\\seaborn\\_decorators.py:36: FutureWarning: Pass the following variable as a keyword arg: x. From version 0.12, the only valid positional argument will be `data`, and passing other arguments without an explicit keyword will result in an error or misinterpretation.\n",
            "  warnings.warn(\n"
          ]
        },
        {
          "data": {
            "text/plain": [
              "<AxesSubplot:xlabel='OccupancyDetection', ylabel='count'>"
            ]
          },
          "execution_count": 49,
          "metadata": {},
          "output_type": "execute_result"
        },
        {
          "data": {
            "image/png": "[encoded data removed]",
            "text/plain": [
              "<Figure size 432x288 with 1 Axes>"
            ]
          },
          "metadata": {
            "needs_background": "light"
          },
          "output_type": "display_data"
        }
      ],
      "source": [
        "sns.countplot(dataset['OccupancyDetection'])"
      ]
    },
    {
      "cell_type": "code",
      "execution_count": null,
      "id": "f6b60a5a",
      "metadata": {
        "id": "f6b60a5a",
        "outputId": "c98c588d-1ef6-4d42-9f22-5329dd0fca5e"
      },
      "outputs": [
        {
          "data": {
            "text/plain": [
              "<AxesSubplot:ylabel='count'>"
            ]
          },
          "execution_count": 50,
          "metadata": {},
          "output_type": "execute_result"
        },
        {
          "data": {
            "image/png": "[encoded data removed]",
            "text/plain": [
              "<Figure size 432x288 with 1 Axes>"
            ]
          },
          "metadata": {
            "needs_background": "light"
          },
          "output_type": "display_data"
        }
      ],
      "source": [
        "from imblearn.over_sampling import RandomOverSampler\n",
        "\n",
        "resampler = RandomOverSampler(random_state=0)\n",
        "X_train_oversampled, y_train_oversampled = resampler.fit_resample(X_train, y_train)\n",
        "\n",
        "sns.countplot(x=y_train_oversampled)"
      ]
    },
    {
      "cell_type": "code",
      "execution_count": null,
      "id": "6c41ae16",
      "metadata": {
        "id": "6c41ae16"
      },
      "outputs": [],
      "source": [
        "from sklearn.preprocessing import StandardScaler\n",
        "sc=StandardScaler()\n",
        "X_train_s=sc.fit_transform(X_train)\n",
        "X_test_s=sc.transform(X_test)"
      ]
    },
    {
      "cell_type": "code",
      "execution_count": null,
      "id": "64b5c2d0",
      "metadata": {
        "id": "64b5c2d0"
      },
      "outputs": [],
      "source": []
    },
    {
      "cell_type": "code",
      "execution_count": null,
      "id": "6de64cb2",
      "metadata": {
        "id": "6de64cb2",
        "outputId": "a3b3e9a9-64e5-488c-d1ba-8b8479c2fbfd"
      },
      "outputs": [
        {
          "data": {
            "text/html": [
              "<style>#sk-container-id-2 {color: black;background-color: white;}#sk-container-id-2 pre{padding: 0;}#sk-container-id-2 div.sk-toggleable {background-color: white;}#sk-container-id-2 label.sk-toggleable__label {cursor: pointer;display: block;width: 100%;margin-bottom: 0;padding: 0.3em;box-sizing: border-box;text-align: center;}#sk-container-id-2 label.sk-toggleable__label-arrow:before {content: \"▸\";float: left;margin-right: 0.25em;color: #696969;}#sk-container-id-2 label.sk-toggleable__label-arrow:hover:before {color: black;}#sk-container-id-2 div.sk-estimator:hover label.sk-toggleable__label-arrow:before {color: black;}#sk-container-id-2 div.sk-toggleable__content {max-height: 0;max-width: 0;overflow: hidden;text-align: left;background-color: #f0f8ff;}#sk-container-id-2 div.sk-toggleable__content pre {margin: 0.2em;color: black;border-radius: 0.25em;background-color: #f0f8ff;}#sk-container-id-2 input.sk-toggleable__control:checked~div.sk-toggleable__content {max-height: 200px;max-width: 100%;overflow: auto;}#sk-container-id-2 input.sk-toggleable__control:checked~label.sk-toggleable__label-arrow:before {content: \"▾\";}#sk-container-id-2 div.sk-estimator input.sk-toggleable__control:checked~label.sk-toggleable__label {background-color: #d4ebff;}#sk-container-id-2 div.sk-label input.sk-toggleable__control:checked~label.sk-toggleable__label {background-color: #d4ebff;}#sk-container-id-2 input.sk-hidden--visually {border: 0;clip: rect(1px 1px 1px 1px);clip: rect(1px, 1px, 1px, 1px);height: 1px;margin: -1px;overflow: hidden;padding: 0;position: absolute;width: 1px;}#sk-container-id-2 div.sk-estimator {font-family: monospace;background-color: #f0f8ff;border: 1px dotted black;border-radius: 0.25em;box-sizing: border-box;margin-bottom: 0.5em;}#sk-container-id-2 div.sk-estimator:hover {background-color: #d4ebff;}#sk-container-id-2 div.sk-parallel-item::after {content: \"\";width: 100%;border-bottom: 1px solid gray;flex-grow: 1;}#sk-container-id-2 div.sk-label:hover label.sk-toggleable__label {background-color: #d4ebff;}#sk-container-id-2 div.sk-serial::before {content: \"\";position: absolute;border-left: 1px solid gray;box-sizing: border-box;top: 0;bottom: 0;left: 50%;z-index: 0;}#sk-container-id-2 div.sk-serial {display: flex;flex-direction: column;align-items: center;background-color: white;padding-right: 0.2em;padding-left: 0.2em;position: relative;}#sk-container-id-2 div.sk-item {position: relative;z-index: 1;}#sk-container-id-2 div.sk-parallel {display: flex;align-items: stretch;justify-content: center;background-color: white;position: relative;}#sk-container-id-2 div.sk-item::before, #sk-container-id-2 div.sk-parallel-item::before {content: \"\";position: absolute;border-left: 1px solid gray;box-sizing: border-box;top: 0;bottom: 0;left: 50%;z-index: -1;}#sk-container-id-2 div.sk-parallel-item {display: flex;flex-direction: column;z-index: 1;position: relative;background-color: white;}#sk-container-id-2 div.sk-parallel-item:first-child::after {align-self: flex-end;width: 50%;}#sk-container-id-2 div.sk-parallel-item:last-child::after {align-self: flex-start;width: 50%;}#sk-container-id-2 div.sk-parallel-item:only-child::after {width: 0;}#sk-container-id-2 div.sk-dashed-wrapped {border: 1px dashed gray;margin: 0 0.4em 0.5em 0.4em;box-sizing: border-box;padding-bottom: 0.4em;background-color: white;}#sk-container-id-2 div.sk-label label {font-family: monospace;font-weight: bold;display: inline-block;line-height: 1.2em;}#sk-container-id-2 div.sk-label-container {text-align: center;}#sk-container-id-2 div.sk-container {/* jupyter's `normalize.less` sets `[hidden] { display: none; }` but bootstrap.min.css set `[hidden] { display: none !important; }` so we also need the `!important` here to be able to override the default hidden behavior on the sphinx rendered scikit-learn.org. See: https://github.com/scikit-learn/scikit-learn/issues/21755 */display: inline-block !important;position: relative;}#sk-container-id-2 div.sk-text-repr-fallback {display: none;}</style><div id=\"sk-container-id-2\" class=\"sk-top-container\"><div class=\"sk-text-repr-fallback\"><pre>KNeighborsClassifier()</pre><b>In a Jupyter environment, please rerun this cell to show the HTML representation or trust the notebook. <br />On GitHub, the HTML representation is unable to render, please try loading this page with nbviewer.org.</b></div><div class=\"sk-container\" hidden><div class=\"sk-item\"><div class=\"sk-estimator sk-toggleable\"><input class=\"sk-toggleable__control sk-hidden--visually\" id=\"sk-estimator-id-2\" type=\"checkbox\" checked><label for=\"sk-estimator-id-2\" class=\"sk-toggleable__label sk-toggleable__label-arrow\">KNeighborsClassifier</label><div class=\"sk-toggleable__content\"><pre>KNeighborsClassifier()</pre></div></div></div></div></div>"
            ],
            "text/plain": [
              "KNeighborsClassifier()"
            ]
          },
          "execution_count": 52,
          "metadata": {},
          "output_type": "execute_result"
        }
      ],
      "source": [
        "# Fitting K-NN to the training set\n",
        "from sklearn.neighbors import KNeighborsClassifier\n",
        "classifier=KNeighborsClassifier(n_neighbors=5, metric='minkowski', p=2)\n",
        "classifier.fit(X_train_s, y_train)"
      ]
    },
    {
      "cell_type": "code",
      "execution_count": null,
      "id": "6dfff4cf",
      "metadata": {
        "id": "6dfff4cf",
        "outputId": "6d2079e6-cdc8-43ef-a3af-783a5a777f89"
      },
      "outputs": [
        {
          "name": "stdout",
          "output_type": "stream",
          "text": [
            "[1 0 0 ... 0 1 1]\n"
          ]
        }
      ],
      "source": [
        "# Predicting the Test set results\n",
        "y_pred=classifier.predict(X_test_s)\n",
        "print(y_pred)"
      ]
    },
    {
      "cell_type": "code",
      "execution_count": null,
      "id": "9bb790cd",
      "metadata": {
        "id": "9bb790cd",
        "outputId": "b26f23a1-9f4d-41f4-e6ad-4a46ac6c087a"
      },
      "outputs": [
        {
          "name": "stdout",
          "output_type": "stream",
          "text": [
            "[1 0 0 ... 0 1 1]\n"
          ]
        }
      ],
      "source": [
        "print(y_test)"
      ]
    },
    {
      "cell_type": "code",
      "execution_count": null,
      "id": "348cd8ee",
      "metadata": {
        "id": "348cd8ee",
        "outputId": "4bcc4724-6201-4918-def0-5ef131719cab"
      },
      "outputs": [
        {
          "name": "stdout",
          "output_type": "stream",
          "text": [
            "accuracy:0.99\n",
            "\n",
            "\n",
            "Confusion Matrix:\n",
            "[[2265   15]\n",
            " [   3  643]] \n",
            "\n",
            "\n",
            "----------------------------------------------------------------------\n",
            "classification Report:\n",
            "\n",
            "              precision    recall  f1-score   support\n",
            "\n",
            "           0       1.00      0.99      1.00      2280\n",
            "           1       0.98      1.00      0.99       646\n",
            "\n",
            "    accuracy                           0.99      2926\n",
            "   macro avg       0.99      0.99      0.99      2926\n",
            "weighted avg       0.99      0.99      0.99      2926\n",
            "\n"
          ]
        }
      ],
      "source": [
        "from sklearn import metrics\n",
        "acc=metrics.accuracy_score(y_test,y_pred)\n",
        "print('accuracy:%.2f\\n\\n'%(acc))\n",
        "cm=metrics.confusion_matrix(y_test,y_pred)\n",
        "print('Confusion Matrix:')\n",
        "print(cm,'\\n\\n')\n",
        "print('----------------------------------------------------------------------')\n",
        "result=metrics.classification_report(y_test,y_pred)\n",
        "print('classification Report:\\n')\n",
        "print(result)"
      ]
    },
    {
      "cell_type": "code",
      "execution_count": null,
      "id": "a5020f15",
      "metadata": {
        "id": "a5020f15",
        "outputId": "91213852-56f3-43ba-ec4a-4a199866181a"
      },
      "outputs": [
        {
          "data": {
            "image/png": "[encoded data removed]",
            "text/plain": [
              "<Figure size 432x288 with 2 Axes>"
            ]
          },
          "metadata": {
            "needs_background": "light"
          },
          "output_type": "display_data"
        }
      ],
      "source": [
        "ax = sns.heatmap(cm, cmap= 'flare' ,annot=True, fmt='d')\n",
        "\n",
        "plt.xlabel(\"Predicted Class\",fontsize=12)\n",
        "plt.ylabel(\"True Class\",fontsize=12)\n",
        "plt.title(\"Confusion Matrix\",fontsize=12)\n",
        "\n",
        "plt.show()"
      ]
    },
    {
      "cell_type": "code",
      "execution_count": null,
      "id": "2023234a",
      "metadata": {
        "id": "2023234a"
      },
      "outputs": [],
      "source": []
    }
  ],
  "metadata": {
    "kernelspec": {
      "display_name": "Python 3 (ipykernel)",
      "language": "python",
      "name": "python3"
    },
    "language_info": {
      "codemirror_mode": {
        "name": "ipython",
        "version": 3
      },
      "file_extension": ".py",
      "mimetype": "text/x-python",
      "name": "python",
      "nbconvert_exporter": "python",
      "pygments_lexer": "ipython3",
      "version": "3.9.12"
    },
    "colab": {
      "provenance": [],
      "include_colab_link": true
    }
  },
  "nbformat": 4,
  "nbformat_minor": 5
}